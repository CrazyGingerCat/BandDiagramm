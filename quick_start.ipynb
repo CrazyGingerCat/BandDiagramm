{
 "cells": [
  {
   "cell_type": "markdown",
   "metadata": {},
   "source": [
    "# material.py\n",
    "To make plots, one needs to define a material. There are two classes of material: semiconductor and metal. These classes are defined in the `material` module. Metals are defined only through `work_function`, defined as the difference between vacuum level `E0` and Fermi level `Ef`. Here we define Vanadium metal (V)"
   ]
  },
  {
   "cell_type": "code",
   "execution_count": 13,
   "metadata": {},
   "outputs": [],
   "source": [
    "import material\n",
    "V = material.metal(work_function=4.3)"
   ]
  },
  {
   "cell_type": "markdown",
   "metadata": {},
   "source": [
    "Semiconductors need more parameters to be well defined. Most important, the energy gap `Eg`: densities depend exponentially on this parameter. `electron_affinity`, defined as the difference between vacuum and conduction level `Ec`, fixes the built-in potential. Magnitude of bending and depletion region depend on `epsilon`, the DC dielectric constant. Effective masses, `effective_m_e` for electrons and `effective_m_h` contribute less and can be left as default."
   ]
  },
  {
   "cell_type": "code",
   "execution_count": 14,
   "metadata": {},
   "outputs": [],
   "source": [
    "Si = material.semiconductor(\n",
    "    Eg=1.12,\n",
    "    electron_affinity=4.05,\n",
    "    epsilon=11.7 # optional, by default 1\n",
    ") # this definition is a good starting point for plotting"
   ]
  },
  {
   "cell_type": "markdown",
   "metadata": {},
   "source": [
    "`layer` class wraps a given material with our wanted thickness in acutal device. A list of layers is the only needed parameter to initialize a device."
   ]
  },
  {
   "cell_type": "code",
   "execution_count": 15,
   "metadata": {},
   "outputs": [],
   "source": [
    "list_layers = [(2, Si), (2, V), (2, Si)]\n",
    "layers = [ material.layer(*el) for el in list_layers]"
   ]
  },
  {
   "cell_type": "markdown",
   "metadata": {},
   "source": [
    "# mat_data.py\n",
    "Some materials are already defined in an external module, named `mat_data`. Before defining a material, look if the same material is already defined in this module. Variables are called with their chemical formula, doping is indicated after an underscore. A(x)B(1-x)C are defined inside functions:"
   ]
  },
  {
   "cell_type": "code",
   "execution_count": 16,
   "metadata": {},
   "outputs": [],
   "source": [
    "import mat_data\n",
    "\n",
    "Al = mat_data.Al\n",
    "\n",
    "Si_n = mat_data.Si_n\n",
    "Si_p = mat_data.Si_p\n",
    "\n",
    "x=0.5\n",
    "AlGaAs = mat_data.AlGaAs(x)"
   ]
  },
  {
   "cell_type": "markdown",
   "metadata": {},
   "source": [
    "Take a look at `mat_data` before defining a material, it can save your time. "
   ]
  },
  {
   "cell_type": "markdown",
   "metadata": {},
   "source": [
    "# band.py\n"
   ]
  }
 ],
 "metadata": {
  "kernelspec": {
   "display_name": "Python 3.10.5 64-bit",
   "language": "python",
   "name": "python3"
  },
  "language_info": {
   "codemirror_mode": {
    "name": "ipython",
    "version": 3
   },
   "file_extension": ".py",
   "mimetype": "text/x-python",
   "name": "python",
   "nbconvert_exporter": "python",
   "pygments_lexer": "ipython3",
   "version": "3.10.5"
  },
  "orig_nbformat": 4,
  "vscode": {
   "interpreter": {
    "hash": "2a340e76e0aff01c0e4881c30f784530ee19b0bd7eeedc6121a95ea546616779"
   }
  }
 },
 "nbformat": 4,
 "nbformat_minor": 2
}
