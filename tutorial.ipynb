{
 "cells": [
  {
   "cell_type": "markdown",
   "metadata": {},
   "source": [
    "To make plots, one needs to define a material. There are two classes of material: semiconductor and metal. These classes are defined in the `material` module. Metals are defined only through `work_function`, defined as the difference between vacuum level `E0` and Fermi level `Ef`. Here we define Vanadium metal (V)"
   ]
  },
  {
   "cell_type": "code",
   "execution_count": null,
   "metadata": {},
   "outputs": [],
   "source": [
    "import material\n",
    "V = material.metal(work_function=4.3)"
   ]
  },
  {
   "cell_type": "markdown",
   "metadata": {},
   "source": [
    "Semiconductors need more parameters to be well defined. Most important, the energy gap `Eg`: densities depend exponentially on this parameter. `electron_affinity`, defined as the difference between vacuum and conduction level `Ec`, fixes the built-in potential. Magnitude of bending and depletion region depend on `epsilon`, the DC dielectric constant. Effective masses, `effective_m_e` for electrons and `effective_m_h` contribute less and can be left as default."
   ]
  },
  {
   "cell_type": "code",
   "execution_count": null,
   "metadata": {},
   "outputs": [],
   "source": [
    "Si = material.semiconductor(\n",
    "    Eg=1.12,\n",
    "    electron_affinity=4.05,\n",
    "    epsilon=11.7 # optional, by default 1\n",
    ") # this definition is a good starting point for plotting"
   ]
  },
  {
   "cell_type": "markdown",
   "metadata": {},
   "source": [
    "Some materials are already defined in an external module, named `mat_data`. Before defining a material, look if the same material is already defined in this module. Name follows chemical formula, doping is indicated after an underscore. A(x)B(1-x)C are defined inside a function:"
   ]
  },
  {
   "cell_type": "code",
   "execution_count": null,
   "metadata": {},
   "outputs": [],
   "source": [
    "import mat_data\n",
    "Si_n = mat_data.Si_n\n",
    "Si_p = mat_data.Si_p\n",
    "AlGaAs = mat_data.AlGaAs(x=0.5)"
   ]
  }
 ],
 "metadata": {
  "kernelspec": {
   "display_name": "Python 3.10.5 64-bit",
   "language": "python",
   "name": "python3"
  },
  "language_info": {
   "name": "python",
   "version": "3.10.5"
  },
  "orig_nbformat": 4,
  "vscode": {
   "interpreter": {
    "hash": "2a340e76e0aff01c0e4881c30f784530ee19b0bd7eeedc6121a95ea546616779"
   }
  }
 },
 "nbformat": 4,
 "nbformat_minor": 2
}
